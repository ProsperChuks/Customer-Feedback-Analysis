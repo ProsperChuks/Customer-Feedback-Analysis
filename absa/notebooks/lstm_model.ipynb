{
  "nbformat": 4,
  "nbformat_minor": 0,
  "metadata": {
    "colab": {
      "name": "lstm_model.ipynb",
      "provenance": [],
      "collapsed_sections": [],
      "toc_visible": true
    },
    "kernelspec": {
      "name": "python3",
      "display_name": "Python 3"
    },
    "language_info": {
      "name": "python"
    }
  },
  "cells": [
    {
      "cell_type": "markdown",
      "source": [
        "## Dependecies"
      ],
      "metadata": {
        "id": "BhyBvDdscLtR"
      }
    },
    {
      "cell_type": "code",
      "execution_count": 172,
      "metadata": {
        "id": "DijfB7SMZ2Cz"
      },
      "outputs": [],
      "source": [
        "import pickle\n",
        "import numpy as np\n",
        "import keras\n",
        "from keras.models import Sequential\n",
        "from keras.layers import Embedding, LSTM, Dense, Flatten, Dropout\n",
        "from tensorflow.keras import optimizers\n",
        "import matplotlib.pyplot as plt"
      ]
    },
    {
      "cell_type": "markdown",
      "source": [
        "## Loading needed data"
      ],
      "metadata": {
        "id": "wVntoTZ2chNy"
      }
    },
    {
      "cell_type": "code",
      "source": [
        "ohe_train = pickle.load(open('/content/drive/MyDrive/Colab Notebooks/Customer Feedback Classification/absa/src/pickled files/OHE_X_train.pkl', 'rb'))\n",
        "we_train = pickle.load(open('/content/drive/MyDrive/Colab Notebooks/Customer Feedback Classification/absa/src/pickled files/WE_X_train.pkl', 'rb'))\n",
        "y_train = pickle.load(open('/content/drive/MyDrive/Colab Notebooks/Customer Feedback Classification/absa/src/pickled files/y_train.pkl', 'rb'))"
      ],
      "metadata": {
        "id": "TJXjUUH6cgkV"
      },
      "execution_count": 174,
      "outputs": []
    },
    {
      "cell_type": "markdown",
      "source": [
        "## Building the Model"
      ],
      "metadata": {
        "id": "2TQCCfC2eg18"
      }
    },
    {
      "cell_type": "markdown",
      "source": [
        "### Sequential"
      ],
      "metadata": {
        "id": "Iv5CzLZ7e-At"
      }
    },
    {
      "cell_type": "code",
      "source": [
        "model = Sequential()\n",
        "\n",
        "model.add(Embedding(input_dim=len(y_train), output_dim=150, \n",
        "                    input_length=28, trainable=True))\n",
        "model.add(LSTM(150, dropout=0.1, return_sequences=True))\n",
        "model.add(LSTM(150, dropout=0.1))\n",
        "model.add(Dense(3, activation='softmax'))\n",
        "\n",
        "opt = optimizers.Adam(learning_rate=0.001)\n",
        "model.compile(optimizer=opt, loss='sparse_categorical_crossentropy', metrics=['accuracy'])"
      ],
      "metadata": {
        "id": "NA8QelGmdSt4"
      },
      "execution_count": 175,
      "outputs": []
    },
    {
      "cell_type": "code",
      "source": [
        "n_EPOCHS = 10\n",
        "BATCH_SIZE = 40\n",
        "model.summary()"
      ],
      "metadata": {
        "colab": {
          "base_uri": "https://localhost:8080/"
        },
        "id": "fj8v8xNJwyp2",
        "outputId": "00c27d21-333e-4fb8-fbe2-36a7841ad9c6"
      },
      "execution_count": 176,
      "outputs": [
        {
          "output_type": "stream",
          "name": "stdout",
          "text": [
            "Model: \"sequential_46\"\n",
            "_________________________________________________________________\n",
            " Layer (type)                Output Shape              Param #   \n",
            "=================================================================\n",
            " embedding_19 (Embedding)    (None, 28, 150)           600000    \n",
            "                                                                 \n",
            " lstm_64 (LSTM)              (None, 28, 150)           180600    \n",
            "                                                                 \n",
            " lstm_65 (LSTM)              (None, 150)               180600    \n",
            "                                                                 \n",
            " dense_35 (Dense)            (None, 3)                 453       \n",
            "                                                                 \n",
            "=================================================================\n",
            "Total params: 961,653\n",
            "Trainable params: 961,653\n",
            "Non-trainable params: 0\n",
            "_________________________________________________________________\n"
          ]
        }
      ]
    },
    {
      "cell_type": "code",
      "source": [
        "train = model.fit(we_train, y_train,\n",
        "                  epochs=n_EPOCHS)"
      ],
      "metadata": {
        "colab": {
          "base_uri": "https://localhost:8080/"
        },
        "id": "U-6cr0imxB73",
        "outputId": "0cdd2bae-6fd7-49dc-c1c4-caa5d69b128d"
      },
      "execution_count": 177,
      "outputs": [
        {
          "output_type": "stream",
          "name": "stdout",
          "text": [
            "Epoch 1/10\n",
            "125/125 [==============================] - 28s 117ms/step - loss: 0.9871 - accuracy: 0.4997\n",
            "Epoch 2/10\n",
            "125/125 [==============================] - 15s 117ms/step - loss: 0.8225 - accuracy: 0.6090\n",
            "Epoch 3/10\n",
            "125/125 [==============================] - 15s 118ms/step - loss: 0.7209 - accuracy: 0.6562\n",
            "Epoch 4/10\n",
            "125/125 [==============================] - 15s 117ms/step - loss: 0.5426 - accuracy: 0.7875\n",
            "Epoch 5/10\n",
            "125/125 [==============================] - 15s 117ms/step - loss: 0.4161 - accuracy: 0.8512\n",
            "Epoch 6/10\n",
            "125/125 [==============================] - 15s 116ms/step - loss: 0.3484 - accuracy: 0.8838\n",
            "Epoch 7/10\n",
            "125/125 [==============================] - 15s 116ms/step - loss: 0.3019 - accuracy: 0.9050\n",
            "Epoch 8/10\n",
            "125/125 [==============================] - 15s 116ms/step - loss: 0.2613 - accuracy: 0.9193\n",
            "Epoch 9/10\n",
            "125/125 [==============================] - 15s 117ms/step - loss: 0.2384 - accuracy: 0.9252\n",
            "Epoch 10/10\n",
            "125/125 [==============================] - 14s 116ms/step - loss: 0.2046 - accuracy: 0.9390\n"
          ]
        }
      ]
    },
    {
      "cell_type": "markdown",
      "source": [
        "#### Accuracy and Loss Visualization"
      ],
      "metadata": {
        "id": "FoR00kKCKFag"
      }
    },
    {
      "cell_type": "code",
      "source": [
        "\n",
        "plt.figure(figsize=(10, 5))\n",
        "plt.plot(train.history['loss'], 'red')\n",
        "# plt.plot(train.history['val_loss'], 'red')\n",
        "plt.legend(['Training Loss', 'Validation Loss'])\n",
        "plt.xlabel('Epochs')\n",
        "plt.ylabel('Loss')\n",
        "\n",
        "plt.figure(figsize=(10, 5))\n",
        "plt.plot(train.history['accuracy'], 'blue')\n",
        "# plt.plot(train.history['val_accuracy'], 'red')\n",
        "plt.legend(['Training Accuracy', 'Validation Accuracy'])\n",
        "plt.xlabel('Epochs')\n",
        "plt.ylabel('Accuracy')"
      ],
      "metadata": {
        "colab": {
          "base_uri": "https://localhost:8080/",
          "height": 668
        },
        "id": "GaoEO_0ZKRrv",
        "outputId": "94d582c5-5f3f-4131-f67d-da0376795aea"
      },
      "execution_count": 183,
      "outputs": [
        {
          "output_type": "execute_result",
          "data": {
            "text/plain": [
              "Text(0, 0.5, 'Accuracy')"
            ]
          },
          "metadata": {},
          "execution_count": 183
        },
        {
          "output_type": "display_data",
          "data": {
            "image/png": "[encoded data removed]",
            "text/plain": [
              "<Figure size 720x360 with 1 Axes>"
            ]
          },
          "metadata": {
            "needs_background": "light"
          }
        },
        {
          "output_type": "display_data",
          "data": {
            "image/png": "[encoded data removed]",
            "text/plain": [
              "<Figure size 720x360 with 1 Axes>"
            ]
          },
          "metadata": {
            "needs_background": "light"
          }
        }
      ]
    }
  ]
}